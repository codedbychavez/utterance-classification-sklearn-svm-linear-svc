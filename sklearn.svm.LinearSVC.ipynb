{
 "cells": [
  {
   "cell_type": "markdown",
   "metadata": {},
   "source": [
    "## Classifying utterances using Sklearn's SVM LinearSVC"
   ]
  },
  {
   "cell_type": "markdown",
   "metadata": {},
   "source": [
    "### The Scenario - A Salon Booking Virtual Assistant"
   ]
  },
  {
   "cell_type": "markdown",
   "metadata": {},
   "source": [
    "Lets suppose that we are faced with a classification problem in which we are task to build a Salon Virtual Assistant. One of our first requirements is to have the Virtual Assistant be able to classify customer utterances to specific intents. Lets take for example a customer who is asking if he can book an appointment (see dialogue below):\n",
    "\n",
    "**Customer**: Hello! Good Morning\n",
    "\n",
    "**VA**: intent: greeting\n",
    "\n",
    "**Customer**: Do you do haircuts?\n",
    "\n",
    "**VA**: intent ask_about_service\n",
    "\n",
    "**Customer**: I wanna book a haircut\n",
    "\n",
    "**VA**: intent: book_appointment\n",
    "\n",
    "In the above dialogue flow, we can see that the VA is able to predict an intent for what the customer is asking about.\n",
    "To deliver this experience, we'll explore and use Sklearn's SVM Linear SVC Algorithm to build an utterance classifier.\n",
    "\n"
   ]
  },
  {
   "cell_type": "markdown",
   "metadata": {},
   "source": [
    "### Imports"
   ]
  },
  {
   "cell_type": "code",
   "execution_count": 1,
   "metadata": {},
   "outputs": [],
   "source": [
    "import pandas as pd\n",
    "from sklearn.model_selection import train_test_split\n",
    "from sklearn.feature_extraction.text import CountVectorizer\n",
    "from sklearn.feature_extraction.text import TfidfTransformer\n",
    "from sklearn.svm import LinearSVC\n",
    "import pickle"
   ]
  },
  {
   "cell_type": "markdown",
   "metadata": {},
   "source": [
    "**Here, we import the following:**\n",
    "\n",
    "**pandas** - Responsible for reading and converting the `classification_data.json` file to a data frame that will be used as input to train the model.\n",
    "\n",
    "**train_test_split** - Would be used to split the training data (The utterances and their respective intents from `classification_data.json`) into a training set and a testing set.\n",
    "\n",
    "**CountVectorizer** - Responsible for creating a numerical matrix that represents the number of words in each sentence and how often each word appears within each sentence.\n",
    "\n",
    "-----------\n",
    "\n",
    "Before we can learn how `TfidfTransformer` works, lets first understand what is `tfidf`. `tfidf` (Term Frequency Inverse Document Frequency) is responsible for giving each word in each sentence a unique number depending on how many times the word appear in the sentence.\n",
    "\n",
    "**TfidfTransformer** - Takes the `CountVectorizer` matrix (described above) as input and creates a `tfidf` matrix out of it.\n",
    "\n",
    "**LinearSVC** - This is the classification model we will be training to make classification predictions.\n",
    "\n",
    "**pickle** - Our reason for using `pickle` here is to be able to save the `CountVectorizer` (a metaclass type object) we imported from `sklearn_feature_extraction.text` to disk so that we can load and use it later. This saves us some processing time since we don't need to reimport the `CountVectorizer` again when we are making a classification prediction.\n",
    "The way how this works is that, with the pickle module, we are able take the `CountVectorizer` object we imported, and convert it into a character stream that would later on be used to reconstruct the `CountVectorizer` when we need to use it."
   ]
  },
  {
   "cell_type": "markdown",
   "metadata": {},
   "source": [
    "## The training and prediction process"
   ]
  },
  {
   "cell_type": "markdown",
   "metadata": {},
   "source": [
    "### Training data (what the contents of classification_data.json looks like)"
   ]
  },
  {
   "cell_type": "code",
   "execution_count": 2,
   "metadata": {},
   "outputs": [
    {
     "data": {
      "text/plain": [
       "[{'intent': 'greeting', 'utterance': 'whats up'},\n",
       " {'intent': 'book_appointment', 'utterance': 'I am looking to book a haircut'},\n",
       " {'intent': 'book_appointment',\n",
       "  'utterance': 'help me to set up a haircut with usual stylist'},\n",
       " {'intent': 'book_appointment',\n",
       "  'utterance': 'is tomorrow at 10am ok too book a simple manicure'},\n",
       " {'intent': 'business_hours',\n",
       "  'utterance': 'do you open for business on weekends'},\n",
       " {'intent': 'business_hours', 'utterance': 'when are you closing?'},\n",
       " {'intent': 'business_hours', 'utterance': 'when are you open for business'}]"
      ]
     },
     "execution_count": 2,
     "metadata": {},
     "output_type": "execute_result"
    }
   ],
   "source": [
    "[\n",
    "    {\n",
    "        \"intent\": \"greeting\",\n",
    "        \"utterance\": \"whats up\"\n",
    "    },\n",
    "    {\n",
    "        \"intent\": \"book_appointment\",\n",
    "        \"utterance\": \"I am looking to book a haircut\"\n",
    "    },\n",
    "    {\n",
    "        \"intent\": \"book_appointment\",\n",
    "        \"utterance\": \"help me to set up a haircut with usual stylist\"\n",
    "    },\n",
    "    {\n",
    "        \"intent\": \"book_appointment\",\n",
    "        \"utterance\": \"is tomorrow at 10am ok too book a simple manicure\"\n",
    "    },\n",
    "    {\n",
    "        \"intent\": \"business_hours\",\n",
    "        \"utterance\": \"do you open for business on weekends\"\n",
    "    },\n",
    "    {\n",
    "        \"intent\": \"business_hours\",\n",
    "        \"utterance\": \"when are you closing?\"\n",
    "    },\n",
    "    {\n",
    "        \"intent\": \"business_hours\",\n",
    "        \"utterance\": \"when are you open for business\"\n",
    "    }\n",
    "]"
   ]
  },
  {
   "cell_type": "markdown",
   "metadata": {},
   "source": [
    "### Create the train_linear_svc_model() function\n",
    "\n",
    "This function will prepare the training data and train the classification model then save the model to disk. Apart from this, the function the saves `CountVectorizer` to disk."
   ]
  },
  {
   "cell_type": "code",
   "execution_count": 3,
   "metadata": {},
   "outputs": [],
   "source": [
    "def train_linear_svc_model(classification_training_data_json):\n",
    "    try:\n",
    "        # Create the a pandas dataframe from the raw training data (from json file).        \n",
    "        df = pd.read_json(classification_training_data_json)\n",
    "\n",
    "        # Create the train test split.\n",
    "        X_train, X_test, y_train, y_test = train_test_split(df['utterance'], df['intent'], random_state=0)\n",
    "\n",
    "\n",
    "        count_vect = CountVectorizer()\n",
    "        # Prepare the training data.\n",
    "\n",
    "        X_train_counts = count_vect.fit_transform(X_train)\n",
    "        tfidf_transformer = TfidfTransformer()\n",
    "        X_train_tfidf = tfidf_transformer.fit_transform(X_train_counts)\n",
    "\n",
    "        # Train the model on the training data.\n",
    "        model = LinearSVC().fit(X_train_tfidf, y_train)\n",
    "\n",
    "        # Saving the vectorizer to disk for later use.\n",
    "        clf_model_vectorizer_pickle_file = 'model_vectorizer.pickle'\n",
    "        pickle.dump(count_vect, open(clf_model_vectorizer_pickle_file, 'wb'))\n",
    "\n",
    "        # Saving the model to disk for later use.\n",
    "        clf_model_file = 'classification.model'\n",
    "        pickle.dump(model, open(clf_model_file, 'wb'))\n",
    "\n",
    "        print('------LinearSVC CLASSIFICATION TRAINING COMPLETED------')\n",
    "        print(\"Vectorizer model saved to the current directory\")\n",
    "        print(\"Classification model saved to the current directory\")\n",
    "    except:\n",
    "        error = 'Error training classification model'\n",
    "        print(error)\n"
   ]
  },
  {
   "cell_type": "markdown",
   "metadata": {},
   "source": [
    "### Run the train_linear_svc_model() function\n",
    "This block of code runs the function we created above to train the **LinearSVC** classifier model."
   ]
  },
  {
   "cell_type": "code",
   "execution_count": 4,
   "metadata": {},
   "outputs": [
    {
     "name": "stdout",
     "output_type": "stream",
     "text": [
      "------LinearSVC CLASSIFICATION TRAINING COMPLETED------\n",
      "Vectorizer model saved to the current directory\n",
      "Classification model saved to the current directory\n"
     ]
    }
   ],
   "source": [
    "# Reference to the classification_data.json file.\n",
    "classification_training_data_json = \"classification_data.json\"\n",
    "\n",
    "# Using the classification_data.json file to train in the model on.\n",
    "train_linear_svc_model(classification_training_data_json)"
   ]
  },
  {
   "cell_type": "markdown",
   "metadata": {},
   "source": [
    "### Create the classify_intent() function\n",
    "This function will take the **utterance**, the **vectorizer_file** and the **model_file** as parameters to make a classification prediction, then returns the intent."
   ]
  },
  {
   "cell_type": "code",
   "execution_count": 5,
   "metadata": {},
   "outputs": [],
   "source": [
    "def classify_intent(utterance, vectorizer_file, model_file):\n",
    "    # load the vectorizer.\n",
    "    loaded_model_vectorizer = pickle.load(open(vectorizer_file, 'rb'))\n",
    "\n",
    "    # load the model.\n",
    "    loaded_model = pickle.load(open(model_file, 'rb'))\n",
    "\n",
    "    # make a prediction.\n",
    "    raw_intent = loaded_model.predict(loaded_model_vectorizer.transform([utterance]))\n",
    "    intent = str(raw_intent[0])\n",
    "\n",
    "    return intent"
   ]
  },
  {
   "cell_type": "markdown",
   "metadata": {},
   "source": [
    "### Making a prediction\n",
    "Here we are calling the `classify_intente()` function that we created above to make a prediction given an utterance."
   ]
  },
  {
   "cell_type": "code",
   "execution_count": 6,
   "metadata": {},
   "outputs": [
    {
     "name": "stdout",
     "output_type": "stream",
     "text": [
      "{'intent': 'greeting', 'utterance': 'hey whats up Virtual Assistant'}\n"
     ]
    }
   ],
   "source": [
    "# Loading model and vectorizer files from disk.\n",
    "model_vectorizer_file = \"model_vectorizer.pickle\"\n",
    "model_file = \"classification.model\"\n",
    "utterance = \"hey whats up Virtual Assistant\"\n",
    "\n",
    "intent = classify_intent(utterance, model_vectorizer_file, model_file)\n",
    "\n",
    "response = {\n",
    "    \"intent\": intent,\n",
    "    \"utterance\": utterance\n",
    "}\n",
    "\n",
    "print(response)"
   ]
  },
  {
   "cell_type": "code",
   "execution_count": null,
   "metadata": {},
   "outputs": [],
   "source": []
  },
  {
   "cell_type": "code",
   "execution_count": null,
   "metadata": {},
   "outputs": [],
   "source": []
  }
 ],
 "metadata": {
  "kernelspec": {
   "display_name": "Python 3",
   "language": "python",
   "name": "python3"
  },
  "language_info": {
   "codemirror_mode": {
    "name": "ipython",
    "version": 3
   },
   "file_extension": ".py",
   "mimetype": "text/x-python",
   "name": "python",
   "nbconvert_exporter": "python",
   "pygments_lexer": "ipython3",
   "version": "3.7.5"
  }
 },
 "nbformat": 4,
 "nbformat_minor": 4
}
